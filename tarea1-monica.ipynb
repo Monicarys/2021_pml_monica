{
 "cells": [
  {
   "cell_type": "markdown",
   "id": "2bbcb127-365e-436d-af2f-71309aa0899b",
   "metadata": {},
   "source": [
    "**Variables and Assignment**"
   ]
  },
  {
   "cell_type": "markdown",
   "id": "f09e4162-8de6-430a-b164-de2b92606f7c",
   "metadata": {},
   "source": [
    "Slicing concepts  \n",
    "    1. What does thing[low:high] do?  \n",
    "    2. What does thing[low:] (without a value after the colon) do?  \n",
    "    3. What does thing[:high] (without a value before the colon) do?  \n",
    "    4. What does thing[:] (just a colon) do?  \n",
    "    5. What does thing[number:some-negative-number] do?  \n",
    "    6. What happens when you choose a high value which is out of range? (i.e., try atom_name[0:15])  "
   ]
  },
  {
   "cell_type": "code",
   "execution_count": 52,
   "id": "3097319e-10af-42c6-b03d-f987c540f530",
   "metadata": {},
   "outputs": [
    {
     "name": "stdout",
     "output_type": "stream",
     "text": [
      "atom_name= paralelepipedo y su longitud es  14\n",
      "1. atom_name [1:4]  gives  \" ara \"\n",
      "2. atom_name [1:]  gives  \" aralelepipedo \"\n",
      "3. atom_name [:4]  gives  \" para \"\n",
      "4. atom_name [:]  gives  \" paralelepipedo \"\n",
      "5.1 atom_name [-1]  gives  \" o \"\n",
      "5.2 atom_name [1:-1]  gives  \" aralelepiped \"\n",
      "5.3 atom_name [:-1]  gives  \" paralelepiped \"\n",
      "5.4 atom_name [-2:-1]  gives  \" d \"\n",
      "5.5 atom_name [:15]  gives  \" paralelepipedo \"\n",
      "5.3 atom_name [:-10]  gives  \" para \"\n",
      "6.1 atom_name [:16]  gives  \" paralelepipedo \"\n",
      "6.2 atom_name [:-16]  gives  \"  \"\n"
     ]
    }
   ],
   "source": [
    "atom_name= 'paralelepipedo'\n",
    "print('atom_name=', atom_name, 'y su longitud es ', len(atom_name))\n",
    "print ('1. atom_name [1:4]  gives ','\"', atom_name [1:4] ,'\"')\n",
    "print ('2. atom_name [1:]  gives ','\"', atom_name [1:] ,'\"')\n",
    "print ('3. atom_name [:4]  gives ','\"', atom_name [:4] ,'\"')\n",
    "print ('4. atom_name [:]  gives ','\"', atom_name [:] ,'\"')\n",
    "print ('5.1 atom_name [-1]  gives ','\"', atom_name [-1] ,'\"')\n",
    "print ('5.2 atom_name [1:-1]  gives ','\"', atom_name [1:-1] ,'\"')\n",
    "print ('5.3 atom_name [:-1]  gives ','\"', atom_name [:-1] ,'\"')\n",
    "print ('5.4 atom_name [-2:-1]  gives ','\"', atom_name [-2:-1] ,'\"')\n",
    "print ('5.5 atom_name [:15]  gives ','\"', atom_name [:15] ,'\"')\n",
    "print ('5.3 atom_name [:-10]  gives ','\"', atom_name [:-10] ,'\"')\n",
    "print ('6.1 atom_name [:16]  gives ','\"', atom_name [:16] ,'\"')\n",
    "print ('6.2 atom_name [:-16]  gives ','\"', atom_name [:-16] ,'\"')\n"
   ]
  },
  {
   "cell_type": "markdown",
   "id": "3a791b41-11d8-465f-a710-bfc2bc2edf7e",
   "metadata": {},
   "source": [
    "**Data Types and Type Conversion**"
   ]
  },
  {
   "cell_type": "markdown",
   "id": "792ce680-c3e6-4cce-8626-03ab52b91879",
   "metadata": {},
   "source": [
    "What type of value is 3.25 + 4? How can you find out?"
   ]
  },
  {
   "cell_type": "code",
   "execution_count": 63,
   "id": "efe02f59-ba64-4ffb-b1e7-b5eaec367948",
   "metadata": {},
   "outputs": [
    {
     "name": "stdout",
     "output_type": "stream",
     "text": [
      "<class 'float'>\n"
     ]
    }
   ],
   "source": [
    "print(type(3.25 + 4))\n"
   ]
  },
  {
   "cell_type": "code",
   "execution_count": 70,
   "id": "e996bbb0-e6f1-451a-8b38-3ee5a18ee812",
   "metadata": {},
   "outputs": [
    {
     "name": "stdout",
     "output_type": "stream",
     "text": [
      "<class 'float'>\n"
     ]
    }
   ],
   "source": [
    "print(type(3.25 + .75 ))"
   ]
  },
  {
   "cell_type": "code",
   "execution_count": 75,
   "id": "2a194539-72d9-4bdf-ab03-34c475e624bc",
   "metadata": {},
   "outputs": [
    {
     "data": {
      "text/plain": [
       "int"
      ]
     },
     "execution_count": 75,
     "metadata": {},
     "output_type": "execute_result"
    }
   ],
   "source": [
    "type( int(3.25 +.75))"
   ]
  },
  {
   "cell_type": "markdown",
   "id": "69a7c2ab-7901-44fa-8f04-87aaf293dfe3",
   "metadata": {},
   "source": [
    "**Built-in Functions and Help**"
   ]
  },
  {
   "cell_type": "code",
   "execution_count": 79,
   "id": "c6cb2d4f-c527-4bae-93be-c2f5f3a8b603",
   "metadata": {},
   "outputs": [
    {
     "data": {
      "text/plain": [
       "1"
      ]
     },
     "execution_count": 79,
     "metadata": {},
     "output_type": "execute_result"
    }
   ],
   "source": [
    "round(.51)"
   ]
  },
  {
   "cell_type": "markdown",
   "id": "29c720fd-3430-411b-9dd5-e86478402f6b",
   "metadata": {},
   "source": [
    "Last Character of a String  \n",
    "If Python starts counting from zero, and len returns the number of characters in a string, what index expression will get the last character in the string name? (Note: we will see a simpler way to do this in a later episode.)"
   ]
  },
  {
   "cell_type": "code",
   "execution_count": 81,
   "id": "98ef4abc-570d-406e-9ae2-f7b007cd31e8",
   "metadata": {},
   "outputs": [
    {
     "data": {
      "text/plain": [
       "'o'"
      ]
     },
     "execution_count": 81,
     "metadata": {},
     "output_type": "execute_result"
    }
   ],
   "source": [
    "atom_name[len(atom_name) - 1]"
   ]
  },
  {
   "cell_type": "markdown",
   "id": "34afc4d4-5ae0-4a76-9952-0bda3ff30cb1",
   "metadata": {},
   "source": [
    "Spot the Difference  \n",
    "1. Predict what each of the print statements in the program below will print. \n",
    "2. Does max(len(rich), poor) run or produce an error message? If it runs, does its result make any sense? it produces an error"
   ]
  },
  {
   "cell_type": "code",
   "execution_count": 82,
   "id": "65ba6162-8b48-4c53-9fe7-f555f552ce97",
   "metadata": {},
   "outputs": [
    {
     "name": "stdout",
     "output_type": "stream",
     "text": [
      "c\n",
      "tin\n",
      "4\n"
     ]
    }
   ],
   "source": [
    "easy_string = \"abc\"\n",
    "print(max(easy_string))\n",
    "rich = \"gold\"\n",
    "poor = \"tin\"\n",
    "print(max(rich, poor))\n",
    "print(max(len(rich), len(poor)))"
   ]
  },
  {
   "cell_type": "markdown",
   "id": "9791180a-d4d6-4df9-bc51-c4915ebc9684",
   "metadata": {},
   "source": [
    "**Libraries**"
   ]
  },
  {
   "cell_type": "markdown",
   "id": "41ec5ac2-c501-43bd-a559-782b2c70e208",
   "metadata": {},
   "source": [
    "Jigsaw Puzzle (Parson’s Problem) Programming Example  \n",
    "Rearrange the following statements so that a random DNA base is printed and its index in the string. Not all statements may be needed. Feel free to use/add intermediate variables."
   ]
  },
  {
   "cell_type": "code",
   "execution_count": 137,
   "id": "4ded4782-8a06-4d47-bcee-0e6177b70b02",
   "metadata": {},
   "outputs": [
    {
     "name": "stdout",
     "output_type": "stream",
     "text": [
      "random base G base index 4\n"
     ]
    }
   ],
   "source": [
    "import math \n",
    "import random\n",
    "bases = \"ACTTGCTTGAC\" \n",
    "n_bases = len(bases)\n",
    "b_index = random.randrange(n_bases)\n",
    "print(\"random base\", bases[b_index], \"base index\", b_index)"
   ]
  },
  {
   "cell_type": "markdown",
   "id": "e2b9e087-48bb-42d9-abd2-e4ad7833712a",
   "metadata": {},
   "source": [
    "**Reading Tabular Data into DataFrames**"
   ]
  },
  {
   "cell_type": "markdown",
   "id": "a6ae6674-89c3-4ebc-987d-02c0530eb81d",
   "metadata": {},
   "source": [
    "Writing Data  \n",
    "As well as the read_csv function for reading data from a file, Pandas provides a to_csv function to write dataframes to files. Applying what you’ve learned about reading from files, write one of your dataframes to a file called processed.csv. You can use help to get information on how to use to_csv."
   ]
  },
  {
   "cell_type": "code",
   "execution_count": 17,
   "id": "2b949ba5-9888-463f-85b4-618a55af588f",
   "metadata": {},
   "outputs": [
    {
     "name": "stdout",
     "output_type": "stream",
     "text": [
      "   Nombre   Hobby\n",
      "0  Carlos  Soccer\n",
      "1   Angel  Tennis\n",
      "2   Pablo   Chess\n"
     ]
    }
   ],
   "source": [
    "import pandas as pd\n",
    "mydf= pd.DataFrame({'Nombre':['Carlos', 'Angel', 'Pablo'],\n",
    "                    'Hobby': ['Soccer', 'Tennis', 'Chess']\n",
    "                   })\n",
    "print(mydf)\n"
   ]
  },
  {
   "cell_type": "code",
   "execution_count": 29,
   "id": "37d64118-ef5e-4176-9ab8-e8deaa9f6bb3",
   "metadata": {},
   "outputs": [
    {
     "name": "stdout",
     "output_type": "stream",
     "text": [
      "Help on method to_csv in module pandas.core.generic:\n",
      "\n",
      "to_csv(path_or_buf: 'FilePathOrBuffer[AnyStr] | None' = None, sep: 'str' = ',', na_rep: 'str' = '', float_format: 'str | None' = None, columns: 'Sequence[Hashable] | None' = None, header: 'bool_t | list[str]' = True, index: 'bool_t' = True, index_label: 'IndexLabel | None' = None, mode: 'str' = 'w', encoding: 'str | None' = None, compression: 'CompressionOptions' = 'infer', quoting: 'int | None' = None, quotechar: 'str' = '\"', line_terminator: 'str | None' = None, chunksize: 'int | None' = None, date_format: 'str | None' = None, doublequote: 'bool_t' = True, escapechar: 'str | None' = None, decimal: 'str' = '.', errors: 'str' = 'strict', storage_options: 'StorageOptions' = None) -> 'str | None' method of pandas.core.frame.DataFrame instance\n",
      "    Write object to a comma-separated values (csv) file.\n",
      "    \n",
      "    Parameters\n",
      "    ----------\n",
      "    path_or_buf : str or file handle, default None\n",
      "        File path or object, if None is provided the result is returned as\n",
      "        a string.  If a non-binary file object is passed, it should be opened\n",
      "        with `newline=''`, disabling universal newlines. If a binary\n",
      "        file object is passed, `mode` might need to contain a `'b'`.\n",
      "    \n",
      "        .. versionchanged:: 1.2.0\n",
      "    \n",
      "           Support for binary file objects was introduced.\n",
      "    \n",
      "    sep : str, default ','\n",
      "        String of length 1. Field delimiter for the output file.\n",
      "    na_rep : str, default ''\n",
      "        Missing data representation.\n",
      "    float_format : str, default None\n",
      "        Format string for floating point numbers.\n",
      "    columns : sequence, optional\n",
      "        Columns to write.\n",
      "    header : bool or list of str, default True\n",
      "        Write out the column names. If a list of strings is given it is\n",
      "        assumed to be aliases for the column names.\n",
      "    index : bool, default True\n",
      "        Write row names (index).\n",
      "    index_label : str or sequence, or False, default None\n",
      "        Column label for index column(s) if desired. If None is given, and\n",
      "        `header` and `index` are True, then the index names are used. A\n",
      "        sequence should be given if the object uses MultiIndex. If\n",
      "        False do not print fields for index names. Use index_label=False\n",
      "        for easier importing in R.\n",
      "    mode : str\n",
      "        Python write mode, default 'w'.\n",
      "    encoding : str, optional\n",
      "        A string representing the encoding to use in the output file,\n",
      "        defaults to 'utf-8'. `encoding` is not supported if `path_or_buf`\n",
      "        is a non-binary file object.\n",
      "    compression : str or dict, default 'infer'\n",
      "        If str, represents compression mode. If dict, value at 'method' is\n",
      "        the compression mode. Compression mode may be any of the following\n",
      "        possible values: {'infer', 'gzip', 'bz2', 'zip', 'xz', None}. If\n",
      "        compression mode is 'infer' and `path_or_buf` is path-like, then\n",
      "        detect compression mode from the following extensions: '.gz',\n",
      "        '.bz2', '.zip' or '.xz'. (otherwise no compression). If dict given\n",
      "        and mode is one of {'zip', 'gzip', 'bz2'}, or inferred as\n",
      "        one of the above, other entries passed as\n",
      "        additional compression options.\n",
      "    \n",
      "        .. versionchanged:: 1.0.0\n",
      "    \n",
      "           May now be a dict with key 'method' as compression mode\n",
      "           and other entries as additional compression options if\n",
      "           compression mode is 'zip'.\n",
      "    \n",
      "        .. versionchanged:: 1.1.0\n",
      "    \n",
      "           Passing compression options as keys in dict is\n",
      "           supported for compression modes 'gzip' and 'bz2'\n",
      "           as well as 'zip'.\n",
      "    \n",
      "        .. versionchanged:: 1.2.0\n",
      "    \n",
      "            Compression is supported for binary file objects.\n",
      "    \n",
      "        .. versionchanged:: 1.2.0\n",
      "    \n",
      "            Previous versions forwarded dict entries for 'gzip' to\n",
      "            `gzip.open` instead of `gzip.GzipFile` which prevented\n",
      "            setting `mtime`.\n",
      "    \n",
      "    quoting : optional constant from csv module\n",
      "        Defaults to csv.QUOTE_MINIMAL. If you have set a `float_format`\n",
      "        then floats are converted to strings and thus csv.QUOTE_NONNUMERIC\n",
      "        will treat them as non-numeric.\n",
      "    quotechar : str, default '\\\"'\n",
      "        String of length 1. Character used to quote fields.\n",
      "    line_terminator : str, optional\n",
      "        The newline character or character sequence to use in the output\n",
      "        file. Defaults to `os.linesep`, which depends on the OS in which\n",
      "        this method is called ('\\\\n' for linux, '\\\\r\\\\n' for Windows, i.e.).\n",
      "    chunksize : int or None\n",
      "        Rows to write at a time.\n",
      "    date_format : str, default None\n",
      "        Format string for datetime objects.\n",
      "    doublequote : bool, default True\n",
      "        Control quoting of `quotechar` inside a field.\n",
      "    escapechar : str, default None\n",
      "        String of length 1. Character used to escape `sep` and `quotechar`\n",
      "        when appropriate.\n",
      "    decimal : str, default '.'\n",
      "        Character recognized as decimal separator. E.g. use ',' for\n",
      "        European data.\n",
      "    errors : str, default 'strict'\n",
      "        Specifies how encoding and decoding errors are to be handled.\n",
      "        See the errors argument for :func:`open` for a full list\n",
      "        of options.\n",
      "    \n",
      "        .. versionadded:: 1.1.0\n",
      "    \n",
      "    storage_options : dict, optional\n",
      "        Extra options that make sense for a particular storage connection, e.g.\n",
      "        host, port, username, password, etc. For HTTP(S) URLs the key-value pairs\n",
      "        are forwarded to ``urllib`` as header options. For other URLs (e.g.\n",
      "        starting with \"s3://\", and \"gcs://\") the key-value pairs are forwarded to\n",
      "        ``fsspec``. Please see ``fsspec`` and ``urllib`` for more details.\n",
      "    \n",
      "        .. versionadded:: 1.2.0\n",
      "    \n",
      "    Returns\n",
      "    -------\n",
      "    None or str\n",
      "        If path_or_buf is None, returns the resulting csv format as a\n",
      "        string. Otherwise returns None.\n",
      "    \n",
      "    See Also\n",
      "    --------\n",
      "    read_csv : Load a CSV file into a DataFrame.\n",
      "    to_excel : Write DataFrame to an Excel file.\n",
      "    \n",
      "    Examples\n",
      "    --------\n",
      "    >>> df = pd.DataFrame({'name': ['Raphael', 'Donatello'],\n",
      "    ...                    'mask': ['red', 'purple'],\n",
      "    ...                    'weapon': ['sai', 'bo staff']})\n",
      "    >>> df.to_csv(index=False)\n",
      "    'name,mask,weapon\\nRaphael,red,sai\\nDonatello,purple,bo staff\\n'\n",
      "    \n",
      "    Create 'out.zip' containing 'out.csv'\n",
      "    \n",
      "    >>> compression_opts = dict(method='zip',\n",
      "    ...                         archive_name='out.csv')  # doctest: +SKIP\n",
      "    >>> df.to_csv('out.zip', index=False,\n",
      "    ...           compression=compression_opts)  # doctest: +SKIP\n",
      "\n"
     ]
    }
   ],
   "source": [
    "help(mydf.to_csv)"
   ]
  },
  {
   "cell_type": "code",
   "execution_count": 26,
   "id": "db4079ad-bd9c-4d06-a51e-bffee0b5d20e",
   "metadata": {},
   "outputs": [
    {
     "data": {
      "text/plain": [
       "'Nombre,Hobby\\nCarlos,Soccer\\nAngel,Tennis\\nPablo,Chess\\n'"
      ]
     },
     "execution_count": 26,
     "metadata": {},
     "output_type": "execute_result"
    }
   ],
   "source": [
    "mydf.to_csv(index=False)"
   ]
  },
  {
   "cell_type": "code",
   "execution_count": 27,
   "id": "b88244ad-e87c-4353-bdc9-9b43677f7566",
   "metadata": {},
   "outputs": [
    {
     "data": {
      "text/plain": [
       "',Nombre,Hobby\\n0,Carlos,Soccer\\n1,Angel,Tennis\\n2,Pablo,Chess\\n'"
      ]
     },
     "execution_count": 27,
     "metadata": {},
     "output_type": "execute_result"
    }
   ],
   "source": [
    "mydf.to_csv(index=True)"
   ]
  },
  {
   "cell_type": "code",
   "execution_count": 28,
   "id": "8b24092b-66a4-4d55-9106-15c5c1e9f8d1",
   "metadata": {},
   "outputs": [],
   "source": [
    "mydf.to_csv('processed.csv')\n"
   ]
  },
  {
   "cell_type": "markdown",
   "id": "a826a3ea-19ca-4d72-917e-82f6afd2cf72",
   "metadata": {},
   "source": [
    "**Pandas DataFrames**"
   ]
  },
  {
   "cell_type": "markdown",
   "id": "f4835474-501f-438d-8ef4-155ab9e3ffb5",
   "metadata": {},
   "source": [
    "Reconstructing Data  \n",
    "Explain what each line in the following short program does: what is in first, second, etc.?"
   ]
  },
  {
   "cell_type": "code",
   "execution_count": 40,
   "id": "938dc604-e069-45d2-908f-8719b6cba9c2",
   "metadata": {},
   "outputs": [],
   "source": [
    "import pandas as pd\n",
    "\n",
    "first = pd.read_csv('/home/moo/2021_pml_monica/data/gapminder_all.csv', index_col='country')\n",
    "# 1. importa eñ archivo csv como un data frame\n",
    "\n",
    "second = first[first['continent'] == 'Americas']\n",
    "# 2. con first['continent'] == 'Americas' se fija en la columna de 'continent' y en las que diga Americas \n",
    "# pone True y en las que no False. Despues con first[first['continent'] == 'Americas'] solo se toma\n",
    "# todas las filas y columnas en las que su valor fue True y le llama second. \n",
    "\n",
    "third = second.drop('Puerto Rico')\n",
    "#elimina de second la fila que lleve por nombre 'Puerto Rico'\n",
    "\n",
    "fourth = third.drop('gdpPercap_1952', axis = 1)\n",
    "#Elimina la columna que diga 'gdpPercap_1952' en la primera fila\n"
   ]
  },
  {
   "cell_type": "markdown",
   "id": "abb9ae58-7360-44d8-8fea-7323bb911f5a",
   "metadata": {},
   "source": [
    "**Plotting**"
   ]
  },
  {
   "cell_type": "markdown",
   "id": "8853fb00-f235-4039-abd8-e972d6d4fbaa",
   "metadata": {},
   "source": [
    "This short program creates a plot showing the correlation between GDP and life expectancy for 2007, normalizing marker size by population:  \n",
    "Using online help and other resources, explain what each argument to plot does."
   ]
  },
  {
   "cell_type": "code",
   "execution_count": 7,
   "id": "644d3e4f-c2b8-4c72-b404-4dfb190b1c35",
   "metadata": {},
   "outputs": [
    {
     "data": {
      "text/plain": [
       "<AxesSubplot:xlabel='gdpPercap_2007', ylabel='lifeExp_2007'>"
      ]
     },
     "execution_count": 7,
     "metadata": {},
     "output_type": "execute_result"
    },
    {
     "data": {
      "image/png": "[encoded data removed]",
      "text/plain": [
       "<Figure size 432x288 with 1 Axes>"
      ]
     },
     "metadata": {
      "needs_background": "light"
     },
     "output_type": "display_data"
    }
   ],
   "source": [
    "#1. Importa la libreria matplotlib.pyplot para poder graficar\n",
    "import matplotlib.pyplot as plt \n",
    "\n",
    "#2. Importa la libreria pandas para poder leer el archivo .csv\n",
    "import pandas as pd \n",
    "\n",
    "#3. Importa el archivo csv, dandole la forma de data frame\n",
    "data_all = pd.read_csv('/home/moo/2021_pml_monica/data/gapminder_all.csv', index_col='country')\n",
    "\n",
    "#4.1 kin='scartter' nos dice el tipo de grafica que tendremos\n",
    "# 4.2 x='gdpPercap_2007' los datos en el eje x\n",
    "# 4.3 y='lifeExp_2007' los datos en el eje y\n",
    "# 4.4 s=data_all['pop_2007']/1e6 Nos dice que en la columna 'pop_2007', donde tenemos datos tipo int\n",
    "#     los divide entre 10^6\n",
    "data_all.plot(kind='scatter', x='gdpPercap_2007', y='lifeExp_2007',\n",
    "              s=data_all['pop_2007']/1e6)"
   ]
  },
  {
   "cell_type": "code",
   "execution_count": 13,
   "id": "b88287f4-3f11-440d-8449-15f815376ee3",
   "metadata": {},
   "outputs": [
    {
     "name": "stdout",
     "output_type": "stream",
     "text": [
      "country\n",
      "Algeria           33.333216\n",
      "Angola            12.420476\n",
      "Benin              8.078314\n",
      "Botswana           1.639131\n",
      "Burkina Faso      14.326203\n",
      "                    ...    \n",
      "Switzerland        7.554661\n",
      "Turkey            71.158647\n",
      "United Kingdom    60.776238\n",
      "Australia         20.434176\n",
      "New Zealand        4.115771\n",
      "Name: pop_2007, Length: 142, dtype: float64\n"
     ]
    }
   ],
   "source": [
    "print(data_all['pop_2007']/1e6)"
   ]
  },
  {
   "cell_type": "markdown",
   "id": "65f38479-f5ad-4b81-bce8-1f9ada968ec7",
   "metadata": {},
   "source": [
    "**Lists**"
   ]
  },
  {
   "cell_type": "markdown",
   "id": "727761b7-a2d7-41dd-bcdf-dcc8ca08bb3d",
   "metadata": {},
   "source": [
    "Sort and Sorted  \n",
    "What do these two programs print? In simple terms, explain the difference between sorted(letters) and letters.sort()."
   ]
  },
  {
   "cell_type": "code",
   "execution_count": 61,
   "id": "4421e3a5-ad82-4289-8dfb-7d6f5e96341e",
   "metadata": {},
   "outputs": [
    {
     "name": "stdout",
     "output_type": "stream",
     "text": [
      "letters is ['g', 'o', 'l', 'd'] and result is ['d', 'g', 'l', 'o']\n"
     ]
    }
   ],
   "source": [
    "# Program A\n",
    "letters = list('gold')\n",
    "result = sorted(letters)\n",
    "print('letters is', letters, 'and result is', result)"
   ]
  },
  {
   "cell_type": "code",
   "execution_count": 62,
   "id": "b00d103c-2899-4384-a392-7d2227b9ec5e",
   "metadata": {},
   "outputs": [
    {
     "name": "stdout",
     "output_type": "stream",
     "text": [
      "letters is ['d', 'g', 'l', 'o'] and result is None\n"
     ]
    }
   ],
   "source": [
    "# Program B\n",
    "letters = list('gold')\n",
    "result = letters.sort()\n",
    "print('letters is', letters, 'and result is', result)"
   ]
  },
  {
   "cell_type": "markdown",
   "id": "2d93b046-e383-434e-a0d4-e561218974cb",
   "metadata": {},
   "source": [
    "Program A, a la variable result le asocia la lista letters, pero no altera letters.  \n",
    "El Programa B altera la lista, ordenando sus elementos, Y result no nos muestra algo."
   ]
  },
  {
   "cell_type": "markdown",
   "id": "0bb09155-0f5c-4a33-a7cd-18cced48c490",
   "metadata": {},
   "source": [
    "**For Loops**"
   ]
  },
  {
   "cell_type": "markdown",
   "id": "6e92935f-51ab-46d9-93bb-5ed9c2cc2e12",
   "metadata": {},
   "source": [
    "Cumulative Sum  \n",
    "Reorder and properly indent the lines of code below so that they print a list with the cumulative sum of data. The result should be [1, 3, 5, 10].  \n",
    "\n",
    "cumulative.append(total)  \n",
    "for number in data:  \n",
    "cumulative = []  \n",
    "total += number  \n",
    "total = 0  \n",
    "print(cumulative)   \n",
    "data = [1,2,2,5]  "
   ]
  },
  {
   "cell_type": "code",
   "execution_count": 18,
   "id": "8460b52a-5e69-4e0f-8b8c-08e35478e8f4",
   "metadata": {},
   "outputs": [
    {
     "name": "stdout",
     "output_type": "stream",
     "text": [
      "[1, 3, 5, 10]\n"
     ]
    }
   ],
   "source": [
    "cumulative = []\n",
    "data = [1,2,2,5]\n",
    "total = 0\n",
    "for number in data:\n",
    "    total += number\n",
    "    cumulative.append(total)\n",
    "print(cumulative)\n"
   ]
  },
  {
   "cell_type": "markdown",
   "id": "1f8fcb59-3044-49a1-9ca9-422b23a7f52d",
   "metadata": {},
   "source": [
    "**Conditionals**"
   ]
  },
  {
   "cell_type": "markdown",
   "id": "d37731b6-e33a-4e58-b07a-bbef791ec03e",
   "metadata": {},
   "source": [
    "Trimming Values  \n",
    "Fill in the blanks so that this program creates a new list containing zeroes where the original list’s values were negative and ones where the original list’s values were positive.  \n",
    "\n",
    "\n",
    "original = [-1.5, 0.2, 0.4, 0.0, -1.3, 0.4]  \n",
    "result = ____  \n",
    "for value in original:  \n",
    "    if ____:  \n",
    "        result.append(0)  \n",
    "    else:  \n",
    "        ____  \n",
    "print(result)  "
   ]
  },
  {
   "cell_type": "code",
   "execution_count": 20,
   "id": "b43f8cec-5277-40df-a927-b11406b423e6",
   "metadata": {},
   "outputs": [
    {
     "name": "stdout",
     "output_type": "stream",
     "text": [
      "[0, 1, 1, 1, 0, 1]\n"
     ]
    }
   ],
   "source": [
    "original = [-1.5, 0.2, 0.4, 0.0, -1.3, 0.4]\n",
    "result = []\n",
    "for value in original:\n",
    "    if value < 0.0:\n",
    "        result.append(0)\n",
    "    else:\n",
    "        result.append(1)\n",
    "print(result)"
   ]
  },
  {
   "cell_type": "markdown",
   "id": "dda3bf7f-977d-4a70-96e2-bda707cb7de7",
   "metadata": {},
   "source": [
    "**Looping Over Data Sets**"
   ]
  },
  {
   "cell_type": "markdown",
   "id": "5a4c1a64-2f98-4196-b85c-2b03b0e4e817",
   "metadata": {},
   "source": [
    "Minimum File Size  \n",
    "Modify this program so that it prints the number of records in the file that has the fewest records.  \n",
    "\n",
    "import glob   \n",
    "import pandas as pd    \n",
    "fewest = ____  \n",
    "for filename in glob.glob('data/*.csv'):  \n",
    "    dataframe = pd.____(filename)  \n",
    "    fewest = min(____, dataframe.shape[0])  \n",
    "print('smallest file has', fewest, 'records')  "
   ]
  },
  {
   "cell_type": "code",
   "execution_count": 29,
   "id": "0d84b702-dcac-491a-8274-9a5fb53ad681",
   "metadata": {},
   "outputs": [
    {
     "name": "stdout",
     "output_type": "stream",
     "text": [
      "smallest file has 25 records\n"
     ]
    }
   ],
   "source": [
    "import glob\n",
    "import pandas as pd\n",
    "fewest = float('Inf')\n",
    "for filename in glob.glob('data/*.csv'):\n",
    "    dataframe = pd.read_csv(filename)\n",
    "    fewest = min(fewest, dataframe.shape[0])\n",
    "print('smallest file has', fewest, 'records')"
   ]
  },
  {
   "cell_type": "markdown",
   "id": "e64580e7-5244-4dda-8cd4-cbeceeb10596",
   "metadata": {},
   "source": [
    "**Writing Functions**"
   ]
  },
  {
   "cell_type": "markdown",
   "id": "e8928388-66a5-4860-8d6c-b98434b80c56",
   "metadata": {
    "tags": []
   },
   "source": [
    "Encapsulation of an If/Print Block\n",
    "The code below will run on a label-printer for chicken eggs. A digital scale will report a chicken egg mass (in grams) to the computer and then the computer will print a label.  \n",
    "\n",
    "Please re-write the code so that the if-block is folded into a function.  \n",
    "\n",
    "import random\n",
    "for i in range(10):\n",
    "\n",
    "    # simulating the mass of a chicken egg\n",
    "    # the (random) mass will be 70 +/- 20 grams\n",
    "    mass = 70 + 20.0 * (2.0 * random.random() - 1.0)\n",
    "\n",
    "    print(mass)\n",
    "   \n",
    "    # egg sizing machinery prints a label\n",
    "    if mass >= 85:\n",
    "       print(\"jumbo\")\n",
    "    elif mass >= 70:\n",
    "       print(\"large\")\n",
    "    elif mass < 70 and mass >= 55:\n",
    "       print(\"medium\")\n",
    "    else:\n",
    "       print(\"small\")\n",
    "The simplified program follows. What function definition will make it functional?\n",
    "\n",
    "revised version\n",
    "import random\n",
    "for i in range(10):\n",
    "\n",
    "    # simulating the mass of a chicken egg\n",
    "    # the (random) mass will be 70 +/- 20 grams\n",
    "    mass = 70 + 20.0 * (2.0 * random.random() - 1.0)\n",
    "\n",
    "    print(mass, get_egg_label(mass))    \n",
    "\n",
    "Create a function definition for get_egg_label() that will work with the revised program above. Note that the get_egg_label() function’s return value will be important. Sample output from the above program would be 71.23 large.  \n",
    "A dirty egg might have a mass of more than 90 grams, and a spoiled or broken egg will probably have a mass that’s less than 50 grams. Modify your get_egg_label() function to account for these error conditions. Sample output could be 25 too light, probably spoiled."
   ]
  },
  {
   "cell_type": "code",
   "execution_count": 53,
   "id": "adf612ae-c123-4a3a-8f48-daaf5c07c3f3",
   "metadata": {},
   "outputs": [],
   "source": [
    "def get_egg_label(mass):\n",
    "    # egg sizing machinery prints a label\n",
    "    egg_label = ''\n",
    "    if mass >= 90:\n",
    "        egg_label = \"warning: egg might be dirty\"\n",
    "    elif mass >= 85:\n",
    "        egg_label = \"jumbo\"\n",
    "    elif mass >= 70:\n",
    "        egg_label = \"large\"\n",
    "    elif mass < 70 and mass >= 55:\n",
    "        egg_label = \"medium\"\n",
    "    elif mass < 50:\n",
    "        egg_label = \"too light, probably spoiled\"\n",
    "    else:\n",
    "        egg_label = \"small\"\n",
    "    return egg_label"
   ]
  },
  {
   "cell_type": "code",
   "execution_count": null,
   "id": "9d3a5c3b-e535-4d2c-8846-1888708506f9",
   "metadata": {},
   "outputs": [],
   "source": []
  }
 ],
 "metadata": {
  "kernelspec": {
   "display_name": "Python 3 (ipykernel)",
   "language": "python",
   "name": "python3"
  },
  "language_info": {
   "codemirror_mode": {
    "name": "ipython",
    "version": 3
   },
   "file_extension": ".py",
   "mimetype": "text/x-python",
   "name": "python",
   "nbconvert_exporter": "python",
   "pygments_lexer": "ipython3",
   "version": "3.8.10"
  }
 },
 "nbformat": 4,
 "nbformat_minor": 5
}
