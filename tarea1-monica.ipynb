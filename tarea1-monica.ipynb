{
 "cells": [
  {
   "cell_type": "markdown",
   "id": "2bbcb127-365e-436d-af2f-71309aa0899b",
   "metadata": {},
   "source": [
    "**Variables and Assignment**"
   ]
  },
  {
   "cell_type": "markdown",
   "id": "f09e4162-8de6-430a-b164-de2b92606f7c",
   "metadata": {},
   "source": [
    "Slicing concepts  \n",
    "    1. What does thing[low:high] do?  \n",
    "    2. What does thing[low:] (without a value after the colon) do?  \n",
    "    3. What does thing[:high] (without a value before the colon) do?  \n",
    "    4. What does thing[:] (just a colon) do?  \n",
    "    5. What does thing[number:some-negative-number] do?  \n",
    "    6. What happens when you choose a high value which is out of range? (i.e., try atom_name[0:15])  "
   ]
  },
  {
   "cell_type": "code",
   "execution_count": 52,
   "id": "3097319e-10af-42c6-b03d-f987c540f530",
   "metadata": {},
   "outputs": [
    {
     "name": "stdout",
     "output_type": "stream",
     "text": [
      "atom_name= paralelepipedo y su longitud es  14\n",
      "1. atom_name [1:4]  gives  \" ara \"\n",
      "2. atom_name [1:]  gives  \" aralelepipedo \"\n",
      "3. atom_name [:4]  gives  \" para \"\n",
      "4. atom_name [:]  gives  \" paralelepipedo \"\n",
      "5.1 atom_name [-1]  gives  \" o \"\n",
      "5.2 atom_name [1:-1]  gives  \" aralelepiped \"\n",
      "5.3 atom_name [:-1]  gives  \" paralelepiped \"\n",
      "5.4 atom_name [-2:-1]  gives  \" d \"\n",
      "5.5 atom_name [:15]  gives  \" paralelepipedo \"\n",
      "5.3 atom_name [:-10]  gives  \" para \"\n",
      "6.1 atom_name [:16]  gives  \" paralelepipedo \"\n",
      "6.2 atom_name [:-16]  gives  \"  \"\n"
     ]
    }
   ],
   "source": [
    "atom_name= 'paralelepipedo'\n",
    "print('atom_name=', atom_name, 'y su longitud es ', len(atom_name))\n",
    "print ('1. atom_name [1:4]  gives ','\"', atom_name [1:4] ,'\"')\n",
    "print ('2. atom_name [1:]  gives ','\"', atom_name [1:] ,'\"')\n",
    "print ('3. atom_name [:4]  gives ','\"', atom_name [:4] ,'\"')\n",
    "print ('4. atom_name [:]  gives ','\"', atom_name [:] ,'\"')\n",
    "print ('5.1 atom_name [-1]  gives ','\"', atom_name [-1] ,'\"')\n",
    "print ('5.2 atom_name [1:-1]  gives ','\"', atom_name [1:-1] ,'\"')\n",
    "print ('5.3 atom_name [:-1]  gives ','\"', atom_name [:-1] ,'\"')\n",
    "print ('5.4 atom_name [-2:-1]  gives ','\"', atom_name [-2:-1] ,'\"')\n",
    "print ('5.5 atom_name [:15]  gives ','\"', atom_name [:15] ,'\"')\n",
    "print ('5.3 atom_name [:-10]  gives ','\"', atom_name [:-10] ,'\"')\n",
    "print ('6.1 atom_name [:16]  gives ','\"', atom_name [:16] ,'\"')\n",
    "print ('6.2 atom_name [:-16]  gives ','\"', atom_name [:-16] ,'\"')\n"
   ]
  },
  {
   "cell_type": "markdown",
   "id": "3a791b41-11d8-465f-a710-bfc2bc2edf7e",
   "metadata": {},
   "source": [
    "**Data Types and Type Conversion**"
   ]
  },
  {
   "cell_type": "markdown",
   "id": "792ce680-c3e6-4cce-8626-03ab52b91879",
   "metadata": {},
   "source": [
    "What type of value is 3.25 + 4? How can you find out?"
   ]
  },
  {
   "cell_type": "code",
   "execution_count": 63,
   "id": "efe02f59-ba64-4ffb-b1e7-b5eaec367948",
   "metadata": {},
   "outputs": [
    {
     "name": "stdout",
     "output_type": "stream",
     "text": [
      "<class 'float'>\n"
     ]
    }
   ],
   "source": [
    "print(type(3.25 + 4))\n"
   ]
  },
  {
   "cell_type": "code",
   "execution_count": 70,
   "id": "e996bbb0-e6f1-451a-8b38-3ee5a18ee812",
   "metadata": {},
   "outputs": [
    {
     "name": "stdout",
     "output_type": "stream",
     "text": [
      "<class 'float'>\n"
     ]
    }
   ],
   "source": [
    "print(type(3.25 + .75 ))"
   ]
  },
  {
   "cell_type": "code",
   "execution_count": 75,
   "id": "2a194539-72d9-4bdf-ab03-34c475e624bc",
   "metadata": {},
   "outputs": [
    {
     "data": {
      "text/plain": [
       "int"
      ]
     },
     "execution_count": 75,
     "metadata": {},
     "output_type": "execute_result"
    }
   ],
   "source": [
    "type( int(3.25 +.75))"
   ]
  },
  {
   "cell_type": "markdown",
   "id": "69a7c2ab-7901-44fa-8f04-87aaf293dfe3",
   "metadata": {},
   "source": [
    "**Built-in Functions and Help**"
   ]
  },
  {
   "cell_type": "code",
   "execution_count": 79,
   "id": "c6cb2d4f-c527-4bae-93be-c2f5f3a8b603",
   "metadata": {},
   "outputs": [
    {
     "data": {
      "text/plain": [
       "1"
      ]
     },
     "execution_count": 79,
     "metadata": {},
     "output_type": "execute_result"
    }
   ],
   "source": [
    "round(.51)"
   ]
  },
  {
   "cell_type": "markdown",
   "id": "29c720fd-3430-411b-9dd5-e86478402f6b",
   "metadata": {},
   "source": [
    "Last Character of a String  \n",
    "If Python starts counting from zero, and len returns the number of characters in a string, what index expression will get the last character in the string name? (Note: we will see a simpler way to do this in a later episode.)"
   ]
  },
  {
   "cell_type": "code",
   "execution_count": 81,
   "id": "98ef4abc-570d-406e-9ae2-f7b007cd31e8",
   "metadata": {},
   "outputs": [
    {
     "data": {
      "text/plain": [
       "'o'"
      ]
     },
     "execution_count": 81,
     "metadata": {},
     "output_type": "execute_result"
    }
   ],
   "source": [
    "atom_name[len(atom_name) - 1]"
   ]
  },
  {
   "cell_type": "markdown",
   "id": "34afc4d4-5ae0-4a76-9952-0bda3ff30cb1",
   "metadata": {},
   "source": [
    "Spot the Difference  \n",
    "1. Predict what each of the print statements in the program below will print. \n",
    "2. Does max(len(rich), poor) run or produce an error message? If it runs, does its result make any sense? it produces an error"
   ]
  },
  {
   "cell_type": "code",
   "execution_count": 82,
   "id": "65ba6162-8b48-4c53-9fe7-f555f552ce97",
   "metadata": {},
   "outputs": [
    {
     "name": "stdout",
     "output_type": "stream",
     "text": [
      "c\n",
      "tin\n",
      "4\n"
     ]
    }
   ],
   "source": [
    "easy_string = \"abc\"\n",
    "print(max(easy_string))\n",
    "rich = \"gold\"\n",
    "poor = \"tin\"\n",
    "print(max(rich, poor))\n",
    "print(max(len(rich), len(poor)))"
   ]
  },
  {
   "cell_type": "markdown",
   "id": "9791180a-d4d6-4df9-bc51-c4915ebc9684",
   "metadata": {},
   "source": [
    "**Libraries**"
   ]
  },
  {
   "cell_type": "markdown",
   "id": "41ec5ac2-c501-43bd-a559-782b2c70e208",
   "metadata": {},
   "source": [
    "Jigsaw Puzzle (Parson’s Problem) Programming Example  \n",
    "Rearrange the following statements so that a random DNA base is printed and its index in the string. Not all statements may be needed. Feel free to use/add intermediate variables."
   ]
  },
  {
   "cell_type": "code",
   "execution_count": 137,
   "id": "4ded4782-8a06-4d47-bcee-0e6177b70b02",
   "metadata": {},
   "outputs": [
    {
     "name": "stdout",
     "output_type": "stream",
     "text": [
      "random base G base index 4\n"
     ]
    }
   ],
   "source": [
    "import math \n",
    "import random\n",
    "bases = \"ACTTGCTTGAC\" \n",
    "n_bases = len(bases)\n",
    "b_index = random.randrange(n_bases)\n",
    "print(\"random base\", bases[b_index], \"base index\", b_index)"
   ]
  },
  {
   "cell_type": "markdown",
   "id": "e2b9e087-48bb-42d9-abd2-e4ad7833712a",
   "metadata": {},
   "source": [
    "**Reading Tabular Data into DataFrames**"
   ]
  }
 ],
 "metadata": {
  "kernelspec": {
   "display_name": "Python 3 (ipykernel)",
   "language": "python",
   "name": "python3"
  },
  "language_info": {
   "codemirror_mode": {
    "name": "ipython",
    "version": 3
   },
   "file_extension": ".py",
   "mimetype": "text/x-python",
   "name": "python",
   "nbconvert_exporter": "python",
   "pygments_lexer": "ipython3",
   "version": "3.8.10"
  }
 },
 "nbformat": 4,
 "nbformat_minor": 5
}
