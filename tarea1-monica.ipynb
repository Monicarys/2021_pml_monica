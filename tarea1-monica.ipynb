{
 "cells": [
  {
   "cell_type": "markdown",
   "id": "2bbcb127-365e-436d-af2f-71309aa0899b",
   "metadata": {},
   "source": [
    "**Variables and Assignment**"
   ]
  },
  {
   "cell_type": "markdown",
   "id": "f09e4162-8de6-430a-b164-de2b92606f7c",
   "metadata": {},
   "source": [
    "Slicing concepts  \n",
    "    1. What does thing[low:high] do?  \n",
    "    2. What does thing[low:] (without a value after the colon) do?  \n",
    "    3. What does thing[:high] (without a value before the colon) do?  \n",
    "    4. What does thing[:] (just a colon) do?  \n",
    "    5. What does thing[number:some-negative-number] do?  \n",
    "    6. What happens when you choose a high value which is out of range? (i.e., try atom_name[0:15])  "
   ]
  },
  {
   "cell_type": "code",
   "execution_count": 50,
   "id": "3097319e-10af-42c6-b03d-f987c540f530",
   "metadata": {},
   "outputs": [
    {
     "name": "stdout",
     "output_type": "stream",
     "text": [
      "atom_name =  paralelepipedo\n",
      "1. atom_name [1:4]  gives  \" ara \"\n",
      "2. atom_name [1:]  gives  \" aralelepipedo \"\n",
      "3. atom_name [:4]  gives  \" para \"\n",
      "4. atom_name [:]  gives  \" paralelepipedo \"\n",
      "5.1 atom_name [-1]  gives  \" o \"\n",
      "5.2 atom_name [1:-1]  gives  \" aralelepiped \"\n",
      "5.3 atom_name [:-1]  gives  \" paralelepiped \"\n",
      "5.4 atom_name [-2:-1]  gives  \" d \"\n",
      "5.5 atom_name [:15]  gives  \" paralelepipedo \"\n",
      "5.3 atom_name [:-10]  gives  \" para \"\n",
      "6.1 atom_name [:16]  gives  \" paralelepipedo \"\n",
      "6.2 atom_name [:-16]  gives  \"  \"\n"
     ]
    }
   ],
   "source": [
    "atom_name= 'paralelepipedo'\n",
    "print(\"atom_name = \", atom_name)\n",
    "print ('1. atom_name [1:4]  gives ','\"', atom_name [1:4] ,'\"')\n",
    "print ('2. atom_name [1:]  gives ','\"', atom_name [1:] ,'\"')\n",
    "print ('3. atom_name [:4]  gives ','\"', atom_name [:4] ,'\"')\n",
    "print ('4. atom_name [:]  gives ','\"', atom_name [:] ,'\"')\n",
    "print ('5.1 atom_name [-1]  gives ','\"', atom_name [-1] ,'\"')\n",
    "print ('5.2 atom_name [1:-1]  gives ','\"', atom_name [1:-1] ,'\"')\n",
    "print ('5.3 atom_name [:-1]  gives ','\"', atom_name [:-1] ,'\"')\n",
    "print ('5.4 atom_name [-2:-1]  gives ','\"', atom_name [-2:-1] ,'\"')\n",
    "print ('5.5 atom_name [:15]  gives ','\"', atom_name [:15] ,'\"')\n",
    "print ('5.3 atom_name [:-10]  gives ','\"', atom_name [:-10] ,'\"')\n",
    "print ('6.1 atom_name [:16]  gives ','\"', atom_name [:16] ,'\"')\n",
    "print ('6.2 atom_name [:-16]  gives ','\"', atom_name [:-16] ,'\"')\n"
   ]
  },
  {
   "cell_type": "code",
   "execution_count": null,
   "id": "bae9503b-351e-45d8-9b42-d05215ac1f2f",
   "metadata": {},
   "outputs": [],
   "source": []
  },
  {
   "cell_type": "code",
   "execution_count": null,
   "id": "efe02f59-ba64-4ffb-b1e7-b5eaec367948",
   "metadata": {},
   "outputs": [],
   "source": []
  }
 ],
 "metadata": {
  "kernelspec": {
   "display_name": "Python 3 (ipykernel)",
   "language": "python",
   "name": "python3"
  },
  "language_info": {
   "codemirror_mode": {
    "name": "ipython",
    "version": 3
   },
   "file_extension": ".py",
   "mimetype": "text/x-python",
   "name": "python",
   "nbconvert_exporter": "python",
   "pygments_lexer": "ipython3",
   "version": "3.8.10"
  }
 },
 "nbformat": 4,
 "nbformat_minor": 5
}
