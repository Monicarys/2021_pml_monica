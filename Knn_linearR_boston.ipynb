{
 "cells": [
  {
   "cell_type": "markdown",
   "id": "4147811c-48c7-4f02-8224-33a294263833",
   "metadata": {},
   "source": [
    "**Ejercicios Knn**"
   ]
  },
  {
   "cell_type": "code",
   "execution_count": 16,
   "id": "70d5a790-b6b4-4830-9880-d173bb8bb9a1",
   "metadata": {},
   "outputs": [],
   "source": [
    "import matplotlib.pyplot as plt\n",
    "import numpy as np\n",
    "import mglearn\n",
    "import pandas as pd\n",
    "from sklearn.model_selection import train_test_split"
   ]
  },
  {
   "cell_type": "markdown",
   "id": "ab31a288-9406-4a30-b062-09fcf697f5df",
   "metadata": {},
   "source": [
    "*Conociendo el conjunto de datos Boston*"
   ]
  },
  {
   "cell_type": "code",
   "execution_count": 9,
   "id": "86c568c1-72f5-4be3-bf3f-10cf0172ef02",
   "metadata": {},
   "outputs": [
    {
     "data": {
      "text/plain": [
       "dict_keys(['data', 'target', 'feature_names', 'DESCR', 'filename'])"
      ]
     },
     "execution_count": 9,
     "metadata": {},
     "output_type": "execute_result"
    }
   ],
   "source": [
    "boston = mglearn.datasets.load_boston()\n",
    "#Se piden los nombres de los arrays de los que consiste boston\n",
    "boston.keys()"
   ]
  },
  {
   "cell_type": "code",
   "execution_count": 11,
   "id": "c1b90930-33ec-47c3-97ce-a82d304545db",
   "metadata": {},
   "outputs": [
    {
     "data": {
      "text/plain": [
       "sklearn.utils.Bunch"
      ]
     },
     "execution_count": 11,
     "metadata": {},
     "output_type": "execute_result"
    }
   ],
   "source": [
    "type(boston)"
   ]
  },
  {
   "cell_type": "code",
   "execution_count": 17,
   "id": "3f25daeb-59cb-4232-9dad-92f905b70144",
   "metadata": {},
   "outputs": [],
   "source": [
    "boston_dataframe = pd.DataFrame(boston['data'], columns=boston['feature_names'])"
   ]
  },
  {
   "cell_type": "code",
   "execution_count": 18,
   "id": "ddd23cf7-93c0-4a5f-8910-84ba335ec889",
   "metadata": {},
   "outputs": [
    {
     "name": "stdout",
     "output_type": "stream",
     "text": [
      "        CRIM    ZN  INDUS  CHAS    NOX     RM   AGE     DIS  RAD    TAX  \\\n",
      "0    0.00632  18.0   2.31   0.0  0.538  6.575  65.2  4.0900  1.0  296.0   \n",
      "1    0.02731   0.0   7.07   0.0  0.469  6.421  78.9  4.9671  2.0  242.0   \n",
      "2    0.02729   0.0   7.07   0.0  0.469  7.185  61.1  4.9671  2.0  242.0   \n",
      "3    0.03237   0.0   2.18   0.0  0.458  6.998  45.8  6.0622  3.0  222.0   \n",
      "4    0.06905   0.0   2.18   0.0  0.458  7.147  54.2  6.0622  3.0  222.0   \n",
      "..       ...   ...    ...   ...    ...    ...   ...     ...  ...    ...   \n",
      "501  0.06263   0.0  11.93   0.0  0.573  6.593  69.1  2.4786  1.0  273.0   \n",
      "502  0.04527   0.0  11.93   0.0  0.573  6.120  76.7  2.2875  1.0  273.0   \n",
      "503  0.06076   0.0  11.93   0.0  0.573  6.976  91.0  2.1675  1.0  273.0   \n",
      "504  0.10959   0.0  11.93   0.0  0.573  6.794  89.3  2.3889  1.0  273.0   \n",
      "505  0.04741   0.0  11.93   0.0  0.573  6.030  80.8  2.5050  1.0  273.0   \n",
      "\n",
      "     PTRATIO       B  LSTAT  \n",
      "0       15.3  396.90   4.98  \n",
      "1       17.8  396.90   9.14  \n",
      "2       17.8  392.83   4.03  \n",
      "3       18.7  394.63   2.94  \n",
      "4       18.7  396.90   5.33  \n",
      "..       ...     ...    ...  \n",
      "501     21.0  391.99   9.67  \n",
      "502     21.0  396.90   9.08  \n",
      "503     21.0  396.90   5.64  \n",
      "504     21.0  393.45   6.48  \n",
      "505     21.0  396.90   7.88  \n",
      "\n",
      "[506 rows x 13 columns]\n"
     ]
    }
   ],
   "source": [
    "print(boston_dataframe)"
   ]
  },
  {
   "cell_type": "code",
   "execution_count": 19,
   "id": "6b6d58b2-a38d-41ac-b6fc-339067a32a61",
   "metadata": {},
   "outputs": [
    {
     "data": {
      "text/plain": [
       "(506, 13)"
      ]
     },
     "execution_count": 19,
     "metadata": {},
     "output_type": "execute_result"
    }
   ],
   "source": [
    "boston_dataframe.shape"
   ]
  },
  {
   "cell_type": "markdown",
   "id": "91eca82a-c70f-42f9-b579-37e279810b47",
   "metadata": {},
   "source": [
    "**6**\n",
    "1. Aplicar el algoritmo de KNeighborsRegressor al dataset de viviendas en Boston con los siguientes parámetros:\n",
    "\n",
    "    * random_state=2 para dividir el dataset en conjunto de entrenamiento y conjunto de prueba\n",
    "    * n_neighbors=3\n",
    "\n",
    "2 Responder\n",
    "    * ¿Hay alguna mejora si el número de vecinos es 5? \n",
    "      \n",
    "     Verdadero"
   ]
  },
  {
   "cell_type": "code",
   "execution_count": 83,
   "id": "3a9019ff-8d9f-42f6-a5c0-cfe549537193",
   "metadata": {},
   "outputs": [
    {
     "name": "stdout",
     "output_type": "stream",
     "text": [
      "Test set K_N=3  : 0.58\n"
     ]
    }
   ],
   "source": [
    "from sklearn.neighbors import KNeighborsRegressor\n",
    "boston = mglearn.datasets.load_boston()\n",
    "\n",
    "from sklearn.model_selection import train_test_split\n",
    "X_train, X_test, y_train, y_test = train_test_split(\n",
    " boston['data'], boston['target'], random_state=2)\n",
    "\n",
    "reg = KNeighborsRegressor(n_neighbors=3)\n",
    "# fit the model using the training data and training targets\n",
    "reg.fit(X_train, y_train)\n",
    "print(\"Test set K_N=3  : {:.2f}\".format(reg.score(X_test, y_test)))"
   ]
  },
  {
   "cell_type": "markdown",
   "id": "b2432125-c1bc-4c59-a71c-91638da9740a",
   "metadata": {},
   "source": [
    "**8** \n",
    "\n",
    "Aplicar el algoritmo de LinearRegression al dataset de viviendas en Boston con los mismos parámetros que las preguntas anteriores:\n",
    "\n",
    "   \n",
    "\n",
    "   Reponder:\n",
    "    * ¿Cuál es el desempeño en el conjunto de prueba ? (dos decimales)"
   ]
  },
  {
   "cell_type": "code",
   "execution_count": 87,
   "id": "50273170-079d-4f69-9e0c-56096ae10718",
   "metadata": {},
   "outputs": [
    {
     "name": "stdout",
     "output_type": "stream",
     "text": [
      "Test set K_N=5  : 0.75\n"
     ]
    }
   ],
   "source": [
    "from sklearn.linear_model import LinearRegression\n",
    "boston = mglearn.datasets.load_boston()\n",
    "\n",
    "from sklearn.model_selection import train_test_split\n",
    "X_train, X_test, y_train, y_test = train_test_split(\n",
    " boston['data'], boston['target'], random_state=2)\n",
    "\n",
    "lr = LinearRegression().fit(X_train, y_train)\n",
    "\n",
    "print(\"Test set K_N=5  : {:.2f}\".format(lr.score(X_test, y_test)))"
   ]
  },
  {
   "cell_type": "markdown",
   "id": "15124c42-7a88-4326-9e5c-3eee451b009c",
   "metadata": {},
   "source": [
    "**9**  \n",
    "\n",
    "1. Con los mismos conjuntos de entrenamiento que las preguntas anteriores, aplicar LinearRegression.\n",
    "\n",
    "2. Responder:\n",
    "   \n",
    "    * ¿Cuál es el peso que tiene la criminalidad según el modelo?\n",
    "\n",
    "Seleccione una:\n",
    "a. -9.81915048e-02\n",
    "b. 9.81915048e-02\n",
    "c. 9.81915048e-04\n",
    "d. -9.81915048e-04"
   ]
  },
  {
   "cell_type": "markdown",
   "id": "6d85990e-20f7-492a-aaaa-94ece8163c93",
   "metadata": {},
   "source": [
    "**10**  \n",
    "\n",
    "Escribe un programa Python usando Scikit-learn para dividir el conjunto de datos de especies de iris en un 80% de datos de entrenamiento y un 20% de datos de prueba. Del total de 150 registros, el conjunto de entrenamiento contendrá 120 registros y el conjunto de prueba 30 registros. \n",
    "\n",
    "Entrena o ajusta los datos en el modelo y calcula la precisión utilizando la función score ,redondeando a dos dígitos, utilizando el algoritmo K Nearest Neighbor con una semilla random_state de 2.\n",
    "\n"
   ]
  },
  {
   "cell_type": "code",
   "execution_count": 105,
   "id": "73a505b1-8dfb-4183-a16f-4a3b41045540",
   "metadata": {},
   "outputs": [
    {
     "name": "stdout",
     "output_type": "stream",
     "text": [
      "Test set K_N=i  : 0.46\n",
      "Test set K_N=i  : 0.63\n",
      "Test set K_N=i  : 0.61\n",
      "Test set K_N=i  : 0.62\n",
      "Test set K_N=i  : 0.66\n",
      "Test set K_N=i  : 0.64\n",
      "Test set K_N=i  : 0.64\n",
      "Test set K_N=i  : 0.64\n",
      "Test set K_N=i  : 0.63\n",
      "Test set K_N=i  : 0.63\n",
      "Test set K_N=i  : 0.62\n",
      "Test set K_N=i  : 0.61\n",
      "Test set K_N=i  : 0.61\n",
      "Test set K_N=i  : 0.59\n",
      "Test set K_N=i  : 0.58\n",
      "Test set K_N=i  : 0.57\n",
      "Test set K_N=i  : 0.58\n",
      "Test set K_N=i  : 0.56\n",
      "Test set K_N=i  : 0.56\n",
      "Test set K_N=i  : 0.55\n",
      "Test set K_N=i  : 0.54\n",
      "Test set K_N=i  : 0.54\n",
      "Test set K_N=i  : 0.54\n",
      "Test set K_N=i  : 0.52\n",
      "Test set K_N=i  : 0.51\n",
      "Test set K_N=i  : 0.51\n",
      "Test set K_N=i  : 0.50\n",
      "Test set K_N=i  : 0.49\n",
      "Test set K_N=i  : 0.48\n",
      "Test set K_N=i  : 0.47\n",
      "Test set K_N=i  : 0.46\n",
      "Test set K_N=i  : 0.45\n",
      "Test set K_N=i  : 0.44\n",
      "Test set K_N=i  : 0.44\n",
      "Test set K_N=i  : 0.43\n",
      "Test set K_N=i  : 0.42\n",
      "Test set K_N=i  : 0.41\n",
      "Test set K_N=i  : 0.41\n"
     ]
    }
   ],
   "source": [
    "from sklearn.neighbors import KNeighborsRegressor\n",
    "boston = mglearn.datasets.load_boston()\n",
    "\n",
    "for i in range (1,39):\n",
    "    X_train, X_test, y_train, y_test = train_test_split(boston['data'], boston['target'], test_size=.2, train_size=.8,random_state=2)\n",
    "    reg = KNeighborsRegressor(n_neighbors=i)\n",
    "# fit the model using the training data and training target\n",
    "    reg.fit(X_train, y_train)\n",
    "    print(\"Test set K_N=i  : {:.2f}\".format(reg.score(X_test, y_test)))"
   ]
  },
  {
   "cell_type": "code",
   "execution_count": null,
   "id": "f91a7dbc-9af6-4bed-89c6-ced9ff7c2b15",
   "metadata": {},
   "outputs": [],
   "source": []
  }
 ],
 "metadata": {
  "kernelspec": {
   "display_name": "Python 3",
   "language": "python",
   "name": "python3"
  },
  "language_info": {
   "codemirror_mode": {
    "name": "ipython",
    "version": 3
   },
   "file_extension": ".py",
   "mimetype": "text/x-python",
   "name": "python",
   "nbconvert_exporter": "python",
   "pygments_lexer": "ipython3",
   "version": "3.8.8"
  }
 },
 "nbformat": 4,
 "nbformat_minor": 5
}
