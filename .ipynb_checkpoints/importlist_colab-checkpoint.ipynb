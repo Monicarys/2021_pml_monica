{
  "nbformat": 4,
  "nbformat_minor": 0,
  "metadata": {
    "colab": {
      "name": "2021_importlist.ipynb",
      "provenance": []
    },
    "kernelspec": {
      "name": "python3",
      "display_name": "Python 3"
    },
    "language_info": {
      "name": "python"
    }
  },
  "cells": [
    {
      "cell_type": "code",
      "metadata": {
        "id": "JO3TCJeKirRy",
        "colab": {
          "base_uri": "https://localhost:8080/"
        },
        "outputId": "2713fcce-be23-4dde-a2b9-bed3459c4841"
      },
      "source": [
        "from google.colab import drive\n",
        "\n",
        "drive.mount('/content/drive')"
      ],
      "execution_count": null,
      "outputs": [
        {
          "output_type": "stream",
          "text": [
            "Mounted at /content/drive\n"
          ],
          "name": "stdout"
        }
      ]
    },
    {
      "cell_type": "code",
      "metadata": {
        "id": "TRmdyPpEjscP",
        "colab": {
          "base_uri": "https://localhost:8080/"
        },
        "outputId": "c155727a-7058-4446-e88d-16fa3f205ded"
      },
      "source": [
        "import os\n",
        "os.listdir('drive/MyDrive/Colab Notebooks')"
      ],
      "execution_count": null,
      "outputs": [
        {
          "output_type": "execute_result",
          "data": {
            "text/plain": [
              "['movie_metadata.csv',\n",
              " 'part02.sql',\n",
              " 'part03.py',\n",
              " 'part01.py',\n",
              " 'data',\n",
              " '__pycache__',\n",
              " 'Untitled0.ipynb',\n",
              " 'Copia de Tareandrea (2).ipynb',\n",
              " 'Copia de Tareandrea (1).ipynb',\n",
              " 'Introduccion_Python.ipynb',\n",
              " 'singer_f_nofunciono.ipynb',\n",
              " 'import_part01.ipynb',\n",
              " 'singerf_intento2.ipynb',\n",
              " 'part03.ipynb',\n",
              " 'Copia de Tareandrea.ipynb',\n",
              " 'Analisis_Datos_Python.ipynb',\n",
              " 'import_part03.ipynb',\n",
              " '2021_importar_googledrive_colab.ipynb']"
            ]
          },
          "metadata": {},
          "execution_count": 3
        }
      ]
    },
    {
      "cell_type": "code",
      "metadata": {
        "colab": {
          "base_uri": "https://localhost:8080/"
        },
        "id": "YAlX7fHGkB0i",
        "outputId": "a8f6b203-1a06-440e-b99a-5fa8a35243e1"
      },
      "source": [
        "import pandas as pd\n",
        "\n",
        "data = pd.read_csv('drive/MyDrive/Colab Notebooks/data/gapminder_gdp_oceania.csv')\n",
        "print(data)"
      ],
      "execution_count": null,
      "outputs": [
        {
          "output_type": "stream",
          "text": [
            "       country  gdpPercap_1952  ...  gdpPercap_2002  gdpPercap_2007\n",
            "0    Australia     10039.59564  ...     30687.75473     34435.36744\n",
            "1  New Zealand     10556.57566  ...     23189.80135     25185.00911\n",
            "\n",
            "[2 rows x 13 columns]\n"
          ],
          "name": "stdout"
        }
      ]
    }
  ]
}